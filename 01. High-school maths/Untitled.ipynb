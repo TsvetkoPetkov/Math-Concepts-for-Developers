{
 "cells": [
  {
   "cell_type": "raw",
   "source": [],
   "metadata": {
    "collapsed": false
   },
   "id": "aa0d45221dcd7b42"
  }
 ],
 "metadata": {},
 "nbformat": 4,
 "nbformat_minor": 5
}

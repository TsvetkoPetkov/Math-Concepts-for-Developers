{
 "cells": [
  {
   "cell_type": "markdown",
   "id": "fecc2f7f-c4dc-4757-a16d-c3a8ee3d4bf2",
   "metadata": {},
   "source": [
    "# Calculus Notes"
   ]
  },
  {
   "cell_type": "markdown",
   "id": "c1d64b73-45df-4763-96a1-adb61c938b8e",
   "metadata": {},
   "source": [
    "## 1. Limits\n",
    "In mathematics, a limit is the value that a function (or sequence) approaches as the input (or index) approaches some value."
   ]
  },
  {
   "cell_type": "code",
   "execution_count": 1,
   "id": "7f8d3de8-c8f5-4726-96a0-93a46023bc36",
   "metadata": {},
   "outputs": [
    {
     "name": "stdout",
     "output_type": "stream",
     "text": [
      "[ 4.          8.41        8.9401      8.994001    8.99940001  8.99994\n",
      "  8.999994    8.9999994   8.99999994  8.99999999  9.          9.\n",
      "  9.00000001  9.00000006  9.0000006   9.000006    9.00006     9.00060001\n",
      "  9.006001    9.0601      9.61       16.        ]\n",
      "[ 4.          9.31        9.9301      9.993001    9.99930001  9.99993\n",
      "  9.999993    9.9999993   9.99999993  9.99999999 10.         10.\n",
      " 10.00000001 10.00000007 10.0000007  10.000007   10.00007    10.00070001\n",
      " 10.007001   10.0701     10.71       18.        ]\n",
      "[-8.41470985e-01 -9.98334166e-02 -9.99983333e-03 -9.99999833e-04\n",
      " -9.99999998e-05 -1.00000000e-05 -1.00000000e-06 -1.00000000e-07\n",
      " -1.00000000e-08 -1.00000000e-09 -1.00000000e-10  1.00000000e-10\n",
      "  1.00000000e-09  1.00000000e-08  1.00000000e-07  1.00000000e-06\n",
      "  1.00000000e-05  9.99999998e-05  9.99999833e-04  9.99983333e-03\n",
      "  9.98334166e-02  8.41470985e-01]\n"
     ]
    }
   ],
   "source": [
    "import numpy as np\n",
    "\n",
    "def get_limit(f, a):\n",
    "    epsilon = np.array([\n",
    "        10 ** p\n",
    "        for p in np.arange(0, -11, -1, dtype=float)\n",
    "    ])\n",
    "    \n",
    "    x = np.append(a - epsilon, (a + epsilon)[::-1])\n",
    "    y = f(x)\n",
    "    return y\n",
    "\n",
    "print(get_limit(lambda x: x ** 2, 3))\n",
    "print(get_limit(lambda x: x ** 2 + 3 * x, 2))\n",
    "print(get_limit(lambda x: np.sin(x), 0))"
   ]
  },
  {
   "cell_type": "markdown",
   "id": "f770a86b-3e8e-427c-b1c4-efa7509ddac2",
   "metadata": {},
   "source": [
    "## 2. Derivatives\n",
    "The derivative is a fundamental tool of calculus that quantifies the sensitivity of change of a function's output with respect to its input."
   ]
  },
  {
   "cell_type": "code",
   "execution_count": 2,
   "id": "892a0eba-dc97-4839-ac63-90ce314d9233",
   "metadata": {},
   "outputs": [
    {
     "name": "stdout",
     "output_type": "stream",
     "text": [
      "23.00000026878024\n"
     ]
    }
   ],
   "source": [
    "def calculate_derivative(f, a, h=1e-7):\n",
    "    return (f(a + h) - f(a)) / h\n",
    "\n",
    "print(calculate_derivative(lambda x: 3 * x**2 + 5 * x - 8, 3))"
   ]
  },
  {
   "cell_type": "markdown",
   "id": "5fc6534c-c953-4a1c-a798-81a5cc5be9cf",
   "metadata": {},
   "source": [
    "## 3. Integrals\n",
    "In mathematics, an integral is the continuous analog of a sum, which is used to calculate areas, volumes, and their generalizations."
   ]
  },
  {
   "attachments": {
    "966a8e04-0962-481f-9773-1d496efa308f.png": {
     "image/png": "[encoded data removed]"
    }
   },
   "cell_type": "markdown",
   "id": "7ccdfe2a-bfe5-4b02-8cf5-451c9d830756",
   "metadata": {},
   "source": [
    "![image.png](attachment:966a8e04-0962-481f-9773-1d496efa308f.png)"
   ]
  },
  {
   "cell_type": "markdown",
   "id": "b4f00ed3-8e01-425b-bfbb-ecec8ad7b6c2",
   "metadata": {},
   "source": [
    "A definite integral of a function can be represented as the signed area of the region bounded by its graph and the horizontal axis; in the above graph as an example, the integral of \n",
    "𝑓(𝑥) is the yellow (−) area subtracted from the blue (+) area."
   ]
  },
  {
   "cell_type": "markdown",
   "id": "dc72d46b-d4b8-4a5a-90c9-2e063fa86fc9",
   "metadata": {},
   "source": [
    "## Gradient Descent\n",
    "Gradient Descent is an optimization algorithm for finding a local minimum of a differentiable function."
   ]
  },
  {
   "cell_type": "code",
   "execution_count": 3,
   "id": "8f8c501b-195a-4266-95d3-414ed0bc16f2",
   "metadata": {},
   "outputs": [
    {
     "name": "stdout",
     "output_type": "stream",
     "text": [
      "The local minimum occurs at  2.2499646074278457\n"
     ]
    }
   ],
   "source": [
    "x_old = 0\n",
    "x_new = 6\n",
    "step_size = 0.01\n",
    "precision = 0.00001\n",
    "\n",
    "def df(x):\n",
    "    # f'(x^4 - 3x^3 + 2) = 4x^3 - 9x^2\n",
    "    y = 4 * x ** 3 - 9 * x ** 2\n",
    "    return y\n",
    "\n",
    "while abs(x_new - x_old) > precision:\n",
    "    x_old = x_new\n",
    "    x_new -= step_size * df(x_old)\n",
    "\n",
    "print(\"The local minimum occurs at \", x_new)"
   ]
  }
 ],
 "metadata": {
  "kernelspec": {
   "display_name": "Python 3 (ipykernel)",
   "language": "python",
   "name": "python3"
  },
  "language_info": {
   "codemirror_mode": {
    "name": "ipython",
    "version": 3
   },
   "file_extension": ".py",
   "mimetype": "text/x-python",
   "name": "python",
   "nbconvert_exporter": "python",
   "pygments_lexer": "ipython3",
   "version": "3.11.7"
  }
 },
 "nbformat": 4,
 "nbformat_minor": 5
}
